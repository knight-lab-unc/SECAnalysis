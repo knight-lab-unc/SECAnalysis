{
 "cells": [
  {
   "cell_type": "code",
   "execution_count": null,
   "id": "dcbec76b-b9aa-46c5-b17d-037d9fea5910",
   "metadata": {
    "tags": []
   },
   "outputs": [],
   "source": [
    "import pandas as pd\n",
    "import numpy as np\n",
    "import matplotlib.pyplot as plt\n",
    "import matplotlib.colors as mcolors\n",
    "import glob \n",
    "import os\n",
    "import re\n",
    "\n",
    "#defining colors\n",
    "purple = mcolors.to_rgba('#4A1B4F')\n",
    "pink = mcolors.to_rgba('#CC2A57')\n",
    "blue = mcolors.to_rgba('#417CBF')\n",
    "green = mcolors.to_rgba('#23967C')\n",
    "yellow = mcolors.to_rgba('#D9A433')\n",
    "grey = mcolors.to_rgba('#595959')\n",
    "orange = mcolors.to_rgba('#EF5F33')\n",
    "black = mcolors.to_rgba('#000000')"
   ]
  },
  {
   "cell_type": "code",
   "execution_count": null,
   "id": "f0fdb4d0-3278-47f2-83f1-57d430688197",
   "metadata": {
    "tags": []
   },
   "outputs": [],
   "source": [
    "def calcurve(filepath, coordinate, start_marker_cal):\n",
    "    with open(filepath) as file:\n",
    "        lines = file.readlines()   \n",
    "    end_marker_cal = 'Comment' \n",
    "    start_index_cal = next((i for i, line in enumerate(lines) if start_marker_cal in line), None)+2\n",
    "    end_index_cal = (next((i for i, line in enumerate(lines) if end_marker_cal in line), None))-2\n",
    "    lines_to_skip = list(range(0, start_index_cal)) + list(range(end_index_cal+1, len(lines)))\n",
    "    calcurve = pd.read_csv(filepath, skiprows=lines_to_skip, header=0, delimiter='\\t')\n",
    "    calcurve = calcurve.drop(['#', 'Weight', 'Error', 'Active','Virtual','Data Name'], axis=1)\n",
    "    calcurve['log(MW)'] = np.log10(calcurve['M.W.'])\n",
    "    \n",
    "    x = calcurve['Time(min)'].values\n",
    "    y = calcurve['log(MW)'].values\n",
    "\n",
    "    coeff = np.polyfit(x,y,coordinate)\n",
    "    poly_function = np.poly1d(coeff)\n",
    "\n",
    "    x_values = np.linspace(min(x), max(x), 100)\n",
    "    y_values = poly_function(x_values)\n",
    "\n",
    "    return poly_function"
   ]
  },
  {
   "cell_type": "code",
   "execution_count": null,
   "id": "ceedba0a-f9be-4b48-94a4-d92d12b17184",
   "metadata": {
    "tags": []
   },
   "outputs": [],
   "source": [
    "#this function processes the data to put apparent MW on the x-axis and normalize the intensity values on the y-axis\n",
    "def process(filepath,  start_marker, end_marker, coordinate, start_marker_cal, start_time, end_time, blank_filepath):\n",
    "    poly_function = calcurve(filepath, coordinate, start_marker_cal)\n",
    "    with open(filepath) as file:\n",
    "        lines = file.readlines()\n",
    "\n",
    "    #indices for where data being pulled from the text file\n",
    "    start_index = next((i for i, line in enumerate(lines) if start_marker in line), None)+7\n",
    "    end_index = (next((i for i, line in enumerate(lines) if end_marker in line), None))-1\n",
    "    \n",
    "    #defines which lines to skip so those between are pulled from the text file\n",
    "    lines_to_skip = list(range(0, start_index)) + list(range(end_index+1, len(lines)))\n",
    "    \n",
    "    with open(blank_filepath) as file:\n",
    "        lines_blank = file.readlines()\n",
    "    start_index_blank = next((i for i, line in enumerate(lines_blank) if start_marker in line), None)+7\n",
    "    end_index_blank = (next((i for i, line in enumerate(lines_blank) if end_marker in line), None))-1\n",
    "    \n",
    "    #defines which lines to skip so those between are pulled from the text file\n",
    "    lines_to_skip_blank = list(range(0, start_index_blank)) + list(range(end_index_blank+1, len(lines_blank)))\n",
    "    \n",
    "    blank = pd.read_csv(blank_filepath, skiprows=lines_to_skip_blank, header=0, delimiter='\\t')\n",
    "    df = pd.read_csv(filepath, skiprows=lines_to_skip, header=0, delimiter='\\t')\n",
    "\n",
    "    df['Intensity'] -= blank['Intensity'].values\n",
    "    \n",
    "    start = df.index[df['R.Time (min)'] == start_time].tolist()[0]\n",
    "    end = df.index[df['R.Time (min)'] == end_time].tolist()[0]\n",
    "    rows = range(start, end)\n",
    "    columns = ['R.Time (min)', 'Intensity']\n",
    "    data = df.loc[rows, columns]\n",
    "    \n",
    "    data['MW_PEG'] = poly_function(data['R.Time (min)'])\n",
    "    data['MW_PEG'] = 10 ** data['MW_PEG']\n",
    "    max_intensity = data['Intensity'].max()\n",
    "    min_intensity = data['Intensity'].min()\n",
    "    \n",
    "    data['normalized RI'] = (data['Intensity'] - min_intensity) / (max_intensity - min_intensity)\n",
    "    # data.to_csv(csvout, index=False)\n",
    "    \n",
    "    processed = data[['MW_PEG', 'normalized RI']]\n",
    "    max_y_row = processed.loc[processed['normalized RI'].idxmax()]\n",
    "    # print(max_y_row['MW_PEG']) #prints Mp\n",
    "    return processed\n"
   ]
  },
  {
   "cell_type": "code",
   "execution_count": null,
   "id": "d7fc6bb8-d4ed-4209-ad18-79d79fa98514",
   "metadata": {
    "tags": []
   },
   "outputs": [],
   "source": [
    "def collapse(DMF_data, aq_data):\n",
    "    max_DMF = DMF_data['normalized RI'].idxmax()\n",
    "    max_aq = aq_data['normalized RI'].idxmax()\n",
    "    \n",
    "    Mp_DMF = DMF_data.loc[max_DMF, 'MW_PEG']\n",
    "    Mp_aq = aq_data.loc[max_aq, 'MW_PEG']\n",
    "    \n",
    "    collapse_value = (1 - (Mp_aq / Mp_DMF)) * 100\n",
    "    return collapse_value"
   ]
  },
  {
   "cell_type": "code",
   "execution_count": null,
   "id": "7fbe5368-0119-4d83-9e38-1dd61fda64b7",
   "metadata": {},
   "outputs": [],
   "source": [
    "def anumlist():\n",
    "    letters = ['a', 'b', 'c', 'd', 'e', 'f', 'g', 'h']\n",
    "    numbers = range(1, 13)  # Generates numbers from 1 to 12\n",
    "\n",
    "    alphanumeric_list = []\n",
    "\n",
    "    for letter in letters:\n",
    "        for number in numbers:\n",
    "            alphanumeric_list.append(f\"{letter}{number}\")\n",
    "\n",
    "    return alphanumeric_list\n",
    "\n",
    "def natural_sort_key(file_path):\n",
    "    filename = os.path.basename(file_path)\n",
    "    return [int(text) if text.isdigit() else text.lower() for text in re.split(r'(\\d+)', filename)]"
   ]
  },
  {
   "cell_type": "code",
   "execution_count": null,
   "id": "22139504-8652-41ec-83b8-949dd707bba2",
   "metadata": {
    "tags": []
   },
   "outputs": [],
   "source": [
    "def process_files_from_directories(dmf_directory, aq_directory, output_excel, params_dmf, params_aq, dmf_blank, aq_blank, plot_directory):\n",
    "    results = []\n",
    "    files_dmf = {os.path.splitext(f)[0]: os.path.join(dmf_directory, f) for f in os.listdir(dmf_directory) if f.endswith('.txt')}\n",
    "    files_aq = {os.path.splitext(f)[0]: os.path.join(aq_directory, f) for f in os.listdir(aq_directory) if f.endswith('.txt')}\n",
    "    files_dmf = dict(sorted(files_dmf.items(), key=lambda x: (int(''.join(filter(str.isdigit, x[0]))), ''.join(filter(str.isalpha, x[0])))))\n",
    "    files_aq = dict(sorted(files_aq.items(), key=lambda x: (int(''.join(filter(str.isdigit, x[0]))), ''.join(filter(str.isalpha, x[0])))))\n",
    "\n",
    "    for filename in files_dmf:\n",
    "        if filename in files_aq:\n",
    "            # Process each dataset\n",
    "            processed_dmf = process(files_dmf[filename], *params_dmf, dmf_blank)\n",
    "            processed_aq = process(files_aq[filename], *params_aq, aq_blank)\n",
    "\n",
    "            # Calculate collapse percentage\n",
    "            collapse_value = collapse(processed_dmf, processed_aq)\n",
    "            results.append({'Filename': filename, 'Collapse (%)': collapse_value})\n",
    "\n",
    "            # Prepare data for plotting\n",
    "            data_to_plot = [processed_dmf, processed_aq]\n",
    "            labels = ['DMF', 'Aqueous']\n",
    "            colors = [pink, blue]\n",
    "            lines = ['-', '--']\n",
    "            title = f\"File: {filename} Collapse: {collapse_value:.1f}%\"\n",
    "\n",
    "            # Plot and save\n",
    "            fig = plt.figure()\n",
    "            for i, df in enumerate(data_to_plot):\n",
    "                plt.plot(df['MW_PEG'], df['normalized RI'], label=labels[i], color=colors[i], linestyle=lines[i])\n",
    "                \n",
    "            plt.xlabel('MW$_P$$_E$$_G$ (Da)')\n",
    "            plt.ylabel('normalized RI (mV)')\n",
    "            plt.legend(labels=labels)\n",
    "            plt.xlim(2500, 35000)  # Adjust limits as needed\n",
    "            \n",
    "            #print collapse on plot\n",
    "            plt.text(0.5, 0.1, f'%collapse = {collapse_value:.1f}', ha='center', va='center', transform=plt.gca().transAxes,\n",
    "                     bbox=dict(facecolor='white', edgecolor='black', boxstyle='round,pad=0.5'))\n",
    "\n",
    "            plotout = os.path.join(plot_directory, f\"{filename}.png\")\n",
    "            fig.savefig(plotout, format='png')\n",
    "            plt.close(fig)\n",
    "\n",
    "    # Save results to Excel\n",
    "    df_results = pd.DataFrame(results)\n",
    "    df_results.to_excel(output_excel, index=False)"
   ]
  },
  {
   "cell_type": "code",
   "execution_count": null,
   "id": "791ba6dd-6290-4583-ae75-3724a8abbd09",
   "metadata": {
    "tags": []
   },
   "outputs": [],
   "source": [
    "#define parameters\n",
    "params_dmf = ('[LC Chromatogram(Detector A-Ch1)]', '[LC Chromatogram(Detector B-Ch1)]', 5, '[GPC Calibration Curve Table(Detector A)]', 10, 18) \n",
    "params_aq = ('[LC Chromatogram(Detector B-Ch1)]', '[LC Status Trace(Pump A Pressure)]', 3, '[GPC Calibration Curve Table(Detector B)]', 10, 25)\n",
    "\n",
    "#define directories, this script will plot ant .txt file in the directory, it will pair them based on filename, so corresponding files must have the same filename in each directory \n",
    "dmf_directory = 'dmf/directory'\n",
    "aq_directory = 'aq/directory'\n",
    "\n",
    "#define blank filepaths\n",
    "blank_aq = 'aq_blank.txt'\n",
    "blank_dmf = 'dmf_blank.txt'\n",
    "\n",
    "#define output directories\n",
    "output_excel = 'collapse_output.xlsx'\n",
    "plot_directory = 'collapse/plots/directory'\n",
    "\n",
    "process_files_from_directories(dmf_directory, aq_directory, output_excel, params_dmf, params_aq, blank_dmf, blank_aq, plot_directory)"
   ]
  },
  {
   "cell_type": "code",
   "execution_count": null,
   "id": "38ce0c9b-aecf-43a9-9948-c5d2e56238cd",
   "metadata": {},
   "outputs": [],
   "source": []
  }
 ],
 "metadata": {
  "kernelspec": {
   "display_name": "Python 3 (ipykernel)",
   "language": "python",
   "name": "python3"
  },
  "language_info": {
   "codemirror_mode": {
    "name": "ipython",
    "version": 3
   },
   "file_extension": ".py",
   "mimetype": "text/x-python",
   "name": "python",
   "nbconvert_exporter": "python",
   "pygments_lexer": "ipython3",
   "version": "3.11.12"
  }
 },
 "nbformat": 4,
 "nbformat_minor": 5
}
