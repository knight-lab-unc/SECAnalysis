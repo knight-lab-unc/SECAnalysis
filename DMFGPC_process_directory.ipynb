{
 "cells": [
  {
   "cell_type": "code",
   "execution_count": null,
   "id": "f5368a12-6e34-4443-9b0c-207d890e6665",
   "metadata": {
    "tags": []
   },
   "outputs": [],
   "source": [
    "import pandas as pd\n",
    "import numpy as np\n",
    "import matplotlib.pyplot as plt\n",
    "import matplotlib.colors as mcolors\n",
    "import glob \n",
    "import os\n",
    "import re\n",
    "\n",
    "#defining colors\n",
    "purple = mcolors.to_rgba('#4A1B4F')\n",
    "pink = mcolors.to_rgba('#CC2A57')\n",
    "blue = mcolors.to_rgba('#417CBF')\n",
    "green = mcolors.to_rgba('#23967C')\n",
    "yellow = mcolors.to_rgba('#D9A433')\n",
    "grey = mcolors.to_rgba('#595959')"
   ]
  },
  {
   "cell_type": "code",
   "execution_count": null,
   "id": "b2df6aef-75f3-4479-bbaa-968da9d08cec",
   "metadata": {
    "tags": []
   },
   "outputs": [],
   "source": [
    "#function to make the calibration curve\n",
    "def calcurve(filepath, color):\n",
    "    with open(filepath) as file:\n",
    "        lines = file.readlines()\n",
    "    start_marker_cal = '[GPC Calibration Curve Table(Detector A)]'  \n",
    "    end_marker_cal = 'Comment' \n",
    "    start_index_cal = next((i for i, line in enumerate(lines) if start_marker_cal in line), None)+2\n",
    "    end_index_cal = (next((i for i, line in enumerate(lines) if end_marker_cal in line), None))-2\n",
    "    lines_to_skip = list(range(0, start_index_cal)) + list(range(end_index_cal+1, len(lines)))\n",
    "    calcurve = pd.read_csv(filepath, skiprows=lines_to_skip, header=0, delimiter='\\t')\n",
    "    calcurve = calcurve.drop(['#', 'Weight', 'Error', 'Active','Virtual','Data Name'], axis=1)\n",
    "    calcurve['log(MW)'] = np.log10(calcurve['M.W.'])\n",
    "    \n",
    "    x = calcurve['Time(min)'].values\n",
    "    y = calcurve['log(MW)'].values\n",
    "\n",
    "    coeff = np.polyfit(x,y,5)\n",
    "    poly_function = np.poly1d(coeff)\n",
    "\n",
    "    x_values = np.linspace(min(x), max(x), 100)\n",
    "    y_values = poly_function(x_values)\n",
    "        \n",
    "    return poly_function"
   ]
  },
  {
   "cell_type": "code",
   "execution_count": null,
   "id": "a83bac18-d368-4b4d-b204-e08db8e404e9",
   "metadata": {
    "tags": []
   },
   "outputs": [],
   "source": [
    "def process(filepath, csvout, color, blank):\n",
    "    poly_function = calcurve(filepath, color)\n",
    "    with open(filepath) as file:\n",
    "        lines = file.readlines()\n",
    "    \n",
    "    #start and end markers of pulling data from the text file\n",
    "    start_marker = '[LC Chromatogram(Detector A-Ch1)]'  \n",
    "    end_marker = '[LC Chromatogram(Detector B-Ch1)]' \n",
    "    \n",
    "    #indices for where data being pulled from the text file\n",
    "    start_index = next((i for i, line in enumerate(lines) if start_marker in line), None)+7\n",
    "    end_index = (next((i for i, line in enumerate(lines) if end_marker in line), None))-1\n",
    "    \n",
    "    #defines which lines to skip so those between are pulled from the text file\n",
    "    lines_to_skip = list(range(0, start_index)) + list(range(end_index+1, len(lines)))\n",
    "\n",
    "    with open(blank) as file:\n",
    "        lines_blank = file.readlines()\n",
    "    start_index_blank = next((i for i, line in enumerate(lines_blank) if start_marker in line), None)+7\n",
    "    end_index_blank = (next((i for i, line in enumerate(lines_blank) if end_marker in line), None))-1\n",
    "\n",
    "    lines_to_skip_blank = list(range(0, start_index_blank)) + list(range(end_index_blank+1, len(lines_blank)))\n",
    "    \n",
    "    #processing values; apply the function from the cal curve to the retention times to get MW_PEG; normlalize intensity\n",
    "    blank = pd.read_csv(blank, skiprows=lines_to_skip_blank, header=0, delimiter='\\t')\n",
    "    df = pd.read_csv(filepath, skiprows=lines_to_skip, header=0, delimiter='\\t')\n",
    "\n",
    "    df['Intensity'] -= blank['Intensity'].values\n",
    "    \n",
    "    start = df.index[df['R.Time (min)'] == 0].tolist()[0]\n",
    "    end = df.index[df['R.Time (min)'] == 18].tolist()[0]\n",
    "    rows = range(start, end)\n",
    "    columns = ['R.Time (min)', 'Intensity']\n",
    "    data = df.loc[rows, columns]\n",
    "    \n",
    "    blank_data = blank.loc[rows, columns]\n",
    "    data['Intensity'] -= blank_data['Intensity'].values\n",
    "    \n",
    "    data['MW_PEG'] = poly_function(data['R.Time (min)'])\n",
    "    data['MW_PEG'] = 10 ** data['MW_PEG']\n",
    "    max_intensity = data['Intensity'].max()\n",
    "    min_intensity = data['Intensity'].min()\n",
    "\n",
    "    data['normalized RI'] = (data['Intensity'] - min_intensity) / (max_intensity - min_intensity)\n",
    "    # data.to_csv(csvout, index=False)\n",
    "    \n",
    "    processed = data[['MW_PEG', 'normalized RI']]\n",
    "    max_y_row = processed.loc[processed['normalized RI'].idxmax()]\n",
    "    max_y_tr = data.loc[data['Intensity'].idxmax()]\n",
    "\n",
    "    # print(max_y_row['MW_PEG']) #prints Mp\n",
    "    \n",
    "    return processed\n",
    "    "
   ]
  },
  {
   "cell_type": "code",
   "execution_count": null,
   "id": "d5124f86-08ce-4449-977a-451c41f6ef92",
   "metadata": {
    "tags": []
   },
   "outputs": [],
   "source": [
    "def plotting(directory, title, x_min, x_max, colors, labels, plotout, csvout, blank):\n",
    "    \n",
    "    file_list = [os.path.join(directory, f) for f in os.listdir(directory) if f.endswith('.txt') and os.path.isfile(os.path.join(directory, f))]\n",
    "    file_list.sort(key=natural_sort_key)\n",
    "   \n",
    "    fig = plt.figure()\n",
    "    for idx, filename in enumerate (file_list):\n",
    "        color = colors[idx % len(colors)]\n",
    "        df = process(filename, csvout, color, blank)\n",
    "        \n",
    "        plt.plot(df['MW_PEG'], df['normalized RI'], color=color, label=f'Trace {idx+1} ({filename})')\n",
    "        labels.append(f'Trace {idx+1} ({filename})')\n",
    "            \n",
    "    plt.xlabel('MW$_P$$_E$$_G$ (Da)')\n",
    "    plt.ylabel('normalized RI')\n",
    "    plt.title(title)\n",
    "    plt.legend(labels=labels)\n",
    "    plt.xlim(x_min,x_max)\n",
    "        \n",
    "    plt.show()\n",
    "    \n",
    "    fig.savefig(plotout, format='png')"
   ]
  },
  {
   "cell_type": "code",
   "execution_count": null,
   "id": "9539f86f-b041-4499-8f93-2c34441b9e49",
   "metadata": {
    "tags": []
   },
   "outputs": [],
   "source": [
    "def anumlist():\n",
    "    letters = ['a', 'b', 'c', 'd', 'e', 'f', 'g', 'h']\n",
    "    numbers = range(1, 13)  # Generates numbers from 1 to 12\n",
    "\n",
    "    alphanumeric_list = []\n",
    "\n",
    "    for letter in letters:\n",
    "        for number in numbers:\n",
    "            alphanumeric_list.append(f\"{letter}{number}\")\n",
    "\n",
    "    return alphanumeric_list\n",
    "\n",
    "def natural_sort_key(file_path):\n",
    "    filename = os.path.basename(file_path)\n",
    "    return [int(text) if text.isdigit() else text.lower() for text in re.split(r'(\\d+)', filename)]"
   ]
  },
  {
   "cell_type": "code",
   "execution_count": null,
   "id": "ef5f96df-00c7-4b1a-b6f8-728431be400c",
   "metadata": {
    "tags": []
   },
   "outputs": [],
   "source": [
    "#define directory where files are stored, this will try to plot ant .txt file in the directory\n",
    "directory = 'directory/path'\n",
    "\n",
    "#define the blank filepath\n",
    "blank = 'blank.txt'\n",
    "\n",
    "#define title\n",
    "title = ''\n",
    "\n",
    "#define x-axis limits\n",
    "x_min = 0\n",
    "x_max = 20000\n",
    "\n",
    "#define filepath for plot\n",
    "plot_output_file = 'GPCplot.png'\n",
    "\n",
    "#define colors for each trace\n",
    "num_colors = 96\n",
    "colors = plt.cm.tab20(np.linspace(0, 1, num_colors))\n",
    "\n",
    "#define labels for each trace\n",
    "labels = ['1', '2', '3']\n",
    "\n",
    "#define linestyle for each trace\n",
    "lines = ['-', '--', '-.']\n",
    "\n",
    "#define the filepath you want to save the raw data to\n",
    "csv_output_file = 'outputcsv.csv'\n",
    "\n",
    "plotting(directory, title, x_min, x_max, colors, labels, plot_output_file, csv_output_file, blank)"
   ]
  },
  {
   "cell_type": "code",
   "execution_count": null,
   "id": "821cd192-697b-4c39-b963-52a36283cde7",
   "metadata": {},
   "outputs": [],
   "source": []
  },
  {
   "cell_type": "code",
   "execution_count": null,
   "id": "50c9deb3-1eac-4032-8bf9-2bfe3699ab95",
   "metadata": {},
   "outputs": [],
   "source": []
  }
 ],
 "metadata": {
  "kernelspec": {
   "display_name": "Python 3 (ipykernel)",
   "language": "python",
   "name": "python3"
  },
  "language_info": {
   "codemirror_mode": {
    "name": "ipython",
    "version": 3
   },
   "file_extension": ".py",
   "mimetype": "text/x-python",
   "name": "python",
   "nbconvert_exporter": "python",
   "pygments_lexer": "ipython3",
   "version": "3.11.12"
  }
 },
 "nbformat": 4,
 "nbformat_minor": 5
}
